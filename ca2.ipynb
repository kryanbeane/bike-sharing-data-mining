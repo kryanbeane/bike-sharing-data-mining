{
 "cells": [
  {
   "cell_type": "markdown",
   "id": "21c3aeba",
   "metadata": {},
   "source": [
    "# Assignment 2 specification\n",
    "\n",
    "The purpose of this assignment is to analyse the Bike Sharing Dataset hosted on the UCI repository of datasets.\n",
    "\n",
    "The dataset is provided with this notebook as a zip file.\n",
    "\n",
    "There are two related datasets in the zip file: one aggregated by day, and the other aggregated by hour.\n",
    "\n",
    "They represent the number of bikes that were shared/hired in Washington over that time period, together with the factors that are believed to predict the demand for such bikes.\n",
    "\n",
    "They include the time unit and various measures of the weather etc. (in terms of temperature, humidity and wind-speed). More description can be found [here](https://archive.ics.uci.edu/ml/datasets/bike+sharing+dataset).\n",
    "\n",
    "You are asked to\n",
    "\n",
    "1. Read the _hourly_ data and split into training and test data __[5 marks]__\n",
    "2. For the training data only, use exploratory data analysis to learn about the data and to indicate how to build a model __[15 marks]__\n",
    "3. Using a forward selection approach, build a regression model that offers the best performance, using a machine learning measure (prediction accuracy on the test data) __[30 marks]__\n",
    "   - You need to pay particular attention to the regression model assumptions\n",
    "   - For best performance, you will also need to perform feature engineering\n",
    "     - modifying the existing features\n",
    "     - transforming them\n",
    "     - merging them\n",
    "     - keeping feature correlation as low as possible\n",
    "   - 10-fold cross-validation should be used to estimate the uncertainty in the fitted model parameters.\n",
    "4. Which of the 3 target columns is easiest to predict accurately? __[5 marks]__\n",
    "5. Using this \"preferred target\", derive a new target whose values are the grouped label (taking the values `Q1`, `Q2`, `Q3`, `Q4`) for demand in the quartiles (0 < demand <= 25th percentile of demand), (25th percentile of demand < demand <= 50th percentile of demand), .. You might find the [pandas quantile calculator](https://pandas.pydata.org/docs/reference/api/pandas.DataFrame.quantile.html) convenient when computing the quartile end points (25th, 50th and 75th percentiles), and pandas filtering by rows  convenient for assigning the new labels. __[5 marks]__\n",
    "6. Use _two_ classification procedures to predict these demand quartiles, repeating the forward selection procedure to find the best model for each, but this time focusing on classification accuracy on the test set as the measure of performance. Are the same features used in each of the two models? __[35 marks]__\n",
    "7. Which of the two machine learning procedures (regression and classification) provides the highest prediction accuracy on the test set? Why is this? __[5 marks]__"
   ]
  },
  {
   "cell_type": "markdown",
   "id": "8833ad10",
   "metadata": {},
   "source": [
    "# Task 1: Read the _hourly_ data and split into training and test data."
   ]
  },
  {
   "cell_type": "markdown",
   "id": "c5377fa4",
   "metadata": {},
   "source": [
    "##Start of Answer 1##"
   ]
  },
  {
   "cell_type": "code",
   "execution_count": null,
   "id": "deb3b224",
   "metadata": {},
   "outputs": [],
   "source": []
  },
  {
   "cell_type": "markdown",
   "id": "ffc9c56f",
   "metadata": {},
   "source": [
    "##End of Answer 1##"
   ]
  },
  {
   "cell_type": "markdown",
   "id": "50a47f6d",
   "metadata": {},
   "source": [
    "# Task 2: For the training data only, use exploratory data analysis to learn about the data and to indicate how to build a model"
   ]
  },
  {
   "cell_type": "markdown",
   "id": "37896da0",
   "metadata": {},
   "source": [
    "##Start of Answer 2##"
   ]
  },
  {
   "cell_type": "code",
   "execution_count": null,
   "id": "acf3618c",
   "metadata": {},
   "outputs": [],
   "source": []
  },
  {
   "cell_type": "markdown",
   "id": "f7c75093",
   "metadata": {},
   "source": [
    "##End of Answer 2##"
   ]
  },
  {
   "cell_type": "markdown",
   "id": "aa5663bb",
   "metadata": {},
   "source": [
    "# Task 3: Using a forward selection approach, build a regression model that offers the best performance"
   ]
  },
  {
   "cell_type": "markdown",
   "id": "0d3cf317",
   "metadata": {},
   "source": [
    "##Start of Answer 3##"
   ]
  },
  {
   "cell_type": "code",
   "execution_count": null,
   "id": "1bcf0397",
   "metadata": {},
   "outputs": [],
   "source": []
  },
  {
   "cell_type": "markdown",
   "id": "188ee3ec",
   "metadata": {},
   "source": [
    "##End of Answer 3##"
   ]
  },
  {
   "cell_type": "markdown",
   "id": "615ec5df",
   "metadata": {},
   "source": [
    "# Task 4: Which of the 3 target columns is easiest to predict accurately?"
   ]
  },
  {
   "cell_type": "markdown",
   "id": "da2a57de",
   "metadata": {},
   "source": [
    "##Start of Answer 4##"
   ]
  },
  {
   "cell_type": "code",
   "execution_count": null,
   "id": "d27577bc",
   "metadata": {},
   "outputs": [],
   "source": []
  },
  {
   "cell_type": "markdown",
   "id": "5b00941a",
   "metadata": {},
   "source": [
    "##End of Answer 4##"
   ]
  },
  {
   "cell_type": "markdown",
   "id": "91770a37",
   "metadata": {},
   "source": [
    "# Task 5: Using this \"preferred target\", derive a new target whose values are the grouped label"
   ]
  },
  {
   "cell_type": "markdown",
   "id": "2c3e174a",
   "metadata": {},
   "source": [
    "##Start of Answer 5##"
   ]
  },
  {
   "cell_type": "code",
   "execution_count": null,
   "id": "5bb4de93",
   "metadata": {},
   "outputs": [],
   "source": []
  },
  {
   "cell_type": "markdown",
   "id": "2a19d02c",
   "metadata": {},
   "source": [
    "##End of Answer 5##"
   ]
  },
  {
   "cell_type": "markdown",
   "id": "616027a7",
   "metadata": {},
   "source": [
    "# Task 6: Use _two_ classification procedures to predict these demand quartiles"
   ]
  },
  {
   "cell_type": "markdown",
   "id": "eec67e3f",
   "metadata": {},
   "source": [
    "##Start of Answer 6"
   ]
  },
  {
   "cell_type": "code",
   "execution_count": null,
   "id": "9b6a3cc3",
   "metadata": {},
   "outputs": [],
   "source": []
  },
  {
   "cell_type": "markdown",
   "id": "3e8f39bd",
   "metadata": {},
   "source": [
    "##End of Answer 6##"
   ]
  },
  {
   "cell_type": "markdown",
   "id": "042e18e1",
   "metadata": {
    "lines_to_next_cell": 2
   },
   "source": [
    "# Task 7: Which of the two machine learning procedures provides the highest prediction accuracy on the test set?"
   ]
  },
  {
   "cell_type": "markdown",
   "id": "ea232709",
   "metadata": {},
   "source": [
    "##Start of Answer 7"
   ]
  },
  {
   "cell_type": "code",
   "execution_count": null,
   "id": "101dc9b8",
   "metadata": {},
   "outputs": [],
   "source": []
  },
  {
   "cell_type": "markdown",
   "id": "1f26f048",
   "metadata": {},
   "source": [
    "##End of Answer 7##"
   ]
  }
 ],
 "metadata": {
  "kernelspec": {
   "display_name": "Python 3 (ipykernel)",
   "language": "python",
   "name": "python3"
  },
  "language_info": {
   "codemirror_mode": {
    "name": "ipython",
    "version": 3
   },
   "file_extension": ".py",
   "mimetype": "text/x-python",
   "name": "python",
   "nbconvert_exporter": "python",
   "pygments_lexer": "ipython3",
   "version": "3.9.7"
  }
 },
 "nbformat": 4,
 "nbformat_minor": 5
}

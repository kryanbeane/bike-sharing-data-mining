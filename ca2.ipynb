{
 "cells": [
  {
   "cell_type": "markdown",
   "id": "21c3aeba",
   "metadata": {},
   "source": [
    "# Assignment 2 specification\n",
    "\n",
    "The purpose of this assignment is to analyse the Bike Sharing Dataset hosted on the UCI repository of datasets.\n",
    "\n",
    "The dataset is provided with this notebook as a zip file.\n",
    "\n",
    "There are two related datasets in the zip file: one aggregated by day, and the other aggregated by hour.\n",
    "\n",
    "They represent the number of bikes that were shared/hired in Washington over that time period, together with the factors that are believed to predict the demand for such bikes.\n",
    "\n",
    "They include the time unit and various measures of the weather etc. (in terms of temperature, humidity and wind-speed). More description can be found [here](https://archive.ics.uci.edu/ml/datasets/bike+sharing+dataset).\n",
    "\n",
    "You are asked to\n",
    "\n",
    "1. Read the _hourly_ data and split into training and test data __[5 marks]__\n",
    "2. For the training data only, use exploratory data analysis to learn about the data and to indicate how to build a model __[15 marks]__\n",
    "3. Using a forward selection approach, build a regression model that offers the best performance, using a machine learning measure (prediction accuracy on the test data) __[30 marks]__\n",
    "   - You need to pay particular attention to the regression model assumptions\n",
    "   - For best performance, you will also need to perform feature engineering\n",
    "     - modifying the existing features\n",
    "     - transforming them\n",
    "     - merging them\n",
    "     - keeping feature correlation as low as possible\n",
    "   - 10-fold cross-validation should be used to estimate the uncertainty in the fitted model parameters.\n",
    "4. Which of the 3 target columns is easiest to predict accurately? __[5 marks]__\n",
    "5. Using this \"preferred target\", derive a new target whose values are the grouped label (taking the values `Q1`, `Q2`, `Q3`, `Q4`) for demand in the quartiles (0 < demand <= 25th percentile of demand), (25th percentile of demand < demand <= 50th percentile of demand), .. You might find the [pandas quantile calculator](https://pandas.pydata.org/docs/reference/api/pandas.DataFrame.quantile.html) convenient when computing the quartile end points (25th, 50th and 75th percentiles), and pandas filtering by rows  convenient for assigning the new labels. __[5 marks]__\n",
    "6. Use _two_ classification procedures to predict these demand quartiles, repeating the forward selection procedure to find the best model for each, but this time focusing on classification accuracy on the test set as the measure of performance. Are the same features used in each of the two models? __[35 marks]__\n",
    "7. Which of the two machine learning procedures (regression and classification) provides the highest prediction accuracy on the test set? Why is this? __[5 marks]__"
   ]
  },
  {
   "cell_type": "markdown",
   "source": [
    "Use log transform to deal with data spread of data\n",
    "https://www.google.com/search?q=how+to+deal+with+data+skewness&oq=how+to+deal+with+data+skewness&aqs=chrome..69i57.4029j0j7&sourceid=chrome&ie=UTF-8\n",
    "\n",
    "- log transformation"
   ],
   "metadata": {
    "collapsed": false
   }
  },
  {
   "cell_type": "markdown",
   "id": "8833ad10",
   "metadata": {},
   "source": [
    "# Task 1: Read the _hourly_ data and split into training and test data."
   ]
  },
  {
   "cell_type": "markdown",
   "id": "c5377fa4",
   "metadata": {},
   "source": [
    "##Start of Answer 1##"
   ]
  },
  {
   "cell_type": "code",
   "execution_count": 4,
   "outputs": [
    {
     "data": {
      "text/plain": "   instant      dteday  season  yr  mnth  hr  holiday  weekday  workingday  \\\n0        1  2011-01-01       1   0     1   0        0        6           0   \n1        2  2011-01-01       1   0     1   1        0        6           0   \n2        3  2011-01-01       1   0     1   2        0        6           0   \n3        4  2011-01-01       1   0     1   3        0        6           0   \n4        5  2011-01-01       1   0     1   4        0        6           0   \n\n   weathersit  temp   atemp   hum  windspeed  casual  registered  cnt  \n0           1  0.24  0.2879  0.81        0.0       3          13   16  \n1           1  0.22  0.2727  0.80        0.0       8          32   40  \n2           1  0.22  0.2727  0.80        0.0       5          27   32  \n3           1  0.24  0.2879  0.75        0.0       3          10   13  \n4           1  0.24  0.2879  0.75        0.0       0           1    1  ",
      "text/html": "<div>\n<style scoped>\n    .dataframe tbody tr th:only-of-type {\n        vertical-align: middle;\n    }\n\n    .dataframe tbody tr th {\n        vertical-align: top;\n    }\n\n    .dataframe thead th {\n        text-align: right;\n    }\n</style>\n<table border=\"1\" class=\"dataframe\">\n  <thead>\n    <tr style=\"text-align: right;\">\n      <th></th>\n      <th>instant</th>\n      <th>dteday</th>\n      <th>season</th>\n      <th>yr</th>\n      <th>mnth</th>\n      <th>hr</th>\n      <th>holiday</th>\n      <th>weekday</th>\n      <th>workingday</th>\n      <th>weathersit</th>\n      <th>temp</th>\n      <th>atemp</th>\n      <th>hum</th>\n      <th>windspeed</th>\n      <th>casual</th>\n      <th>registered</th>\n      <th>cnt</th>\n    </tr>\n  </thead>\n  <tbody>\n    <tr>\n      <th>0</th>\n      <td>1</td>\n      <td>2011-01-01</td>\n      <td>1</td>\n      <td>0</td>\n      <td>1</td>\n      <td>0</td>\n      <td>0</td>\n      <td>6</td>\n      <td>0</td>\n      <td>1</td>\n      <td>0.24</td>\n      <td>0.2879</td>\n      <td>0.81</td>\n      <td>0.0</td>\n      <td>3</td>\n      <td>13</td>\n      <td>16</td>\n    </tr>\n    <tr>\n      <th>1</th>\n      <td>2</td>\n      <td>2011-01-01</td>\n      <td>1</td>\n      <td>0</td>\n      <td>1</td>\n      <td>1</td>\n      <td>0</td>\n      <td>6</td>\n      <td>0</td>\n      <td>1</td>\n      <td>0.22</td>\n      <td>0.2727</td>\n      <td>0.80</td>\n      <td>0.0</td>\n      <td>8</td>\n      <td>32</td>\n      <td>40</td>\n    </tr>\n    <tr>\n      <th>2</th>\n      <td>3</td>\n      <td>2011-01-01</td>\n      <td>1</td>\n      <td>0</td>\n      <td>1</td>\n      <td>2</td>\n      <td>0</td>\n      <td>6</td>\n      <td>0</td>\n      <td>1</td>\n      <td>0.22</td>\n      <td>0.2727</td>\n      <td>0.80</td>\n      <td>0.0</td>\n      <td>5</td>\n      <td>27</td>\n      <td>32</td>\n    </tr>\n    <tr>\n      <th>3</th>\n      <td>4</td>\n      <td>2011-01-01</td>\n      <td>1</td>\n      <td>0</td>\n      <td>1</td>\n      <td>3</td>\n      <td>0</td>\n      <td>6</td>\n      <td>0</td>\n      <td>1</td>\n      <td>0.24</td>\n      <td>0.2879</td>\n      <td>0.75</td>\n      <td>0.0</td>\n      <td>3</td>\n      <td>10</td>\n      <td>13</td>\n    </tr>\n    <tr>\n      <th>4</th>\n      <td>5</td>\n      <td>2011-01-01</td>\n      <td>1</td>\n      <td>0</td>\n      <td>1</td>\n      <td>4</td>\n      <td>0</td>\n      <td>6</td>\n      <td>0</td>\n      <td>1</td>\n      <td>0.24</td>\n      <td>0.2879</td>\n      <td>0.75</td>\n      <td>0.0</td>\n      <td>0</td>\n      <td>1</td>\n      <td>1</td>\n    </tr>\n  </tbody>\n</table>\n</div>"
     },
     "execution_count": 4,
     "metadata": {},
     "output_type": "execute_result"
    }
   ],
   "source": [
    "import matplotlib.pyplot as plt\n",
    "import numpy as np\n",
    "import pandas as pd\n",
    "import seaborn as sns\n",
    "%matplotlib inline\n",
    "\n",
    "hourly = pd.read_csv('./data/hour.csv')\n",
    "hourly.head(5)"
   ],
   "metadata": {
    "collapsed": false
   }
  },
  {
   "cell_type": "code",
   "execution_count": 16,
   "outputs": [],
   "source": [
    "from sklearn.model_selection import train_test_split\n",
    "\n",
    "# Splitting features and targets\n",
    "targets = hourly[['cnt', 'registered', 'casual']]\n",
    "\n",
    "features = hourly.drop(targets, axis=1)\n",
    "\n",
    "xtrain, xtest, ytrain, ytest = train_test_split(features, targets ,test_size=0.2)"
   ],
   "metadata": {
    "collapsed": false
   }
  },
  {
   "cell_type": "code",
   "execution_count": 17,
   "outputs": [
    {
     "data": {
      "text/plain": "       instant      dteday  season  yr  mnth  hr  holiday  weekday  \\\n10428    10429  2012-03-15       1   1     3  15        0        4   \n10463    10464  2012-03-17       1   1     3   2        0        6   \n12179    12180  2012-05-27       2   1     5  16        0        0   \n\n       workingday  weathersit  temp   atemp   hum  windspeed  \n10428           1           1  0.72  0.6515  0.32     0.2239  \n10463           0           2  0.44  0.4394  0.88     0.0000  \n12179           0           1  0.78  0.7121  0.52     0.2836  ",
      "text/html": "<div>\n<style scoped>\n    .dataframe tbody tr th:only-of-type {\n        vertical-align: middle;\n    }\n\n    .dataframe tbody tr th {\n        vertical-align: top;\n    }\n\n    .dataframe thead th {\n        text-align: right;\n    }\n</style>\n<table border=\"1\" class=\"dataframe\">\n  <thead>\n    <tr style=\"text-align: right;\">\n      <th></th>\n      <th>instant</th>\n      <th>dteday</th>\n      <th>season</th>\n      <th>yr</th>\n      <th>mnth</th>\n      <th>hr</th>\n      <th>holiday</th>\n      <th>weekday</th>\n      <th>workingday</th>\n      <th>weathersit</th>\n      <th>temp</th>\n      <th>atemp</th>\n      <th>hum</th>\n      <th>windspeed</th>\n    </tr>\n  </thead>\n  <tbody>\n    <tr>\n      <th>10428</th>\n      <td>10429</td>\n      <td>2012-03-15</td>\n      <td>1</td>\n      <td>1</td>\n      <td>3</td>\n      <td>15</td>\n      <td>0</td>\n      <td>4</td>\n      <td>1</td>\n      <td>1</td>\n      <td>0.72</td>\n      <td>0.6515</td>\n      <td>0.32</td>\n      <td>0.2239</td>\n    </tr>\n    <tr>\n      <th>10463</th>\n      <td>10464</td>\n      <td>2012-03-17</td>\n      <td>1</td>\n      <td>1</td>\n      <td>3</td>\n      <td>2</td>\n      <td>0</td>\n      <td>6</td>\n      <td>0</td>\n      <td>2</td>\n      <td>0.44</td>\n      <td>0.4394</td>\n      <td>0.88</td>\n      <td>0.0000</td>\n    </tr>\n    <tr>\n      <th>12179</th>\n      <td>12180</td>\n      <td>2012-05-27</td>\n      <td>2</td>\n      <td>1</td>\n      <td>5</td>\n      <td>16</td>\n      <td>0</td>\n      <td>0</td>\n      <td>0</td>\n      <td>1</td>\n      <td>0.78</td>\n      <td>0.7121</td>\n      <td>0.52</td>\n      <td>0.2836</td>\n    </tr>\n  </tbody>\n</table>\n</div>"
     },
     "execution_count": 17,
     "metadata": {},
     "output_type": "execute_result"
    }
   ],
   "source": [
    "xtrain.head(3)"
   ],
   "metadata": {
    "collapsed": false
   }
  },
  {
   "cell_type": "code",
   "execution_count": 18,
   "outputs": [
    {
     "data": {
      "text/plain": "       instant      dteday  season  yr  mnth  hr  holiday  weekday  \\\n14312    14313  2012-08-24       3   1     8  13        0        5   \n15739    15740  2012-10-23       4   1    10   0        0        2   \n12461    12462  2012-06-08       2   1     6  10        0        5   \n\n       workingday  weathersit  temp   atemp   hum  windspeed  \n14312           1           2  0.80  0.7121  0.41     0.1045  \n15739           1           1  0.46  0.4545  0.88     0.1642  \n12461           1           1  0.66  0.6212  0.47     0.2537  ",
      "text/html": "<div>\n<style scoped>\n    .dataframe tbody tr th:only-of-type {\n        vertical-align: middle;\n    }\n\n    .dataframe tbody tr th {\n        vertical-align: top;\n    }\n\n    .dataframe thead th {\n        text-align: right;\n    }\n</style>\n<table border=\"1\" class=\"dataframe\">\n  <thead>\n    <tr style=\"text-align: right;\">\n      <th></th>\n      <th>instant</th>\n      <th>dteday</th>\n      <th>season</th>\n      <th>yr</th>\n      <th>mnth</th>\n      <th>hr</th>\n      <th>holiday</th>\n      <th>weekday</th>\n      <th>workingday</th>\n      <th>weathersit</th>\n      <th>temp</th>\n      <th>atemp</th>\n      <th>hum</th>\n      <th>windspeed</th>\n    </tr>\n  </thead>\n  <tbody>\n    <tr>\n      <th>14312</th>\n      <td>14313</td>\n      <td>2012-08-24</td>\n      <td>3</td>\n      <td>1</td>\n      <td>8</td>\n      <td>13</td>\n      <td>0</td>\n      <td>5</td>\n      <td>1</td>\n      <td>2</td>\n      <td>0.80</td>\n      <td>0.7121</td>\n      <td>0.41</td>\n      <td>0.1045</td>\n    </tr>\n    <tr>\n      <th>15739</th>\n      <td>15740</td>\n      <td>2012-10-23</td>\n      <td>4</td>\n      <td>1</td>\n      <td>10</td>\n      <td>0</td>\n      <td>0</td>\n      <td>2</td>\n      <td>1</td>\n      <td>1</td>\n      <td>0.46</td>\n      <td>0.4545</td>\n      <td>0.88</td>\n      <td>0.1642</td>\n    </tr>\n    <tr>\n      <th>12461</th>\n      <td>12462</td>\n      <td>2012-06-08</td>\n      <td>2</td>\n      <td>1</td>\n      <td>6</td>\n      <td>10</td>\n      <td>0</td>\n      <td>5</td>\n      <td>1</td>\n      <td>1</td>\n      <td>0.66</td>\n      <td>0.6212</td>\n      <td>0.47</td>\n      <td>0.2537</td>\n    </tr>\n  </tbody>\n</table>\n</div>"
     },
     "execution_count": 18,
     "metadata": {},
     "output_type": "execute_result"
    }
   ],
   "source": [
    "xtest.head(3)"
   ],
   "metadata": {
    "collapsed": false
   }
  },
  {
   "cell_type": "markdown",
   "id": "ffc9c56f",
   "metadata": {},
   "source": [
    "##End of Answer 1##"
   ]
  },
  {
   "cell_type": "markdown",
   "id": "50a47f6d",
   "metadata": {},
   "source": [
    "# Task 2: For the training data only, use exploratory data analysis to learn about the data and to indicate how to build a model"
   ]
  },
  {
   "cell_type": "markdown",
   "id": "37896da0",
   "metadata": {},
   "source": [
    "##Start of Answer 2##"
   ]
  },
  {
   "cell_type": "code",
   "execution_count": null,
   "id": "acf3618c",
   "metadata": {
    "pycharm": {
     "is_executing": true
    }
   },
   "outputs": [],
   "source": []
  },
  {
   "cell_type": "markdown",
   "id": "f7c75093",
   "metadata": {},
   "source": [
    "##End of Answer 2##"
   ]
  },
  {
   "cell_type": "markdown",
   "id": "aa5663bb",
   "metadata": {},
   "source": [
    "# Task 3: Using a forward selection approach, build a regression model that offers the best performance"
   ]
  },
  {
   "cell_type": "markdown",
   "id": "0d3cf317",
   "metadata": {},
   "source": [
    "##Start of Answer 3##"
   ]
  },
  {
   "cell_type": "code",
   "execution_count": null,
   "id": "1bcf0397",
   "metadata": {
    "pycharm": {
     "is_executing": true
    }
   },
   "outputs": [],
   "source": []
  },
  {
   "cell_type": "markdown",
   "id": "188ee3ec",
   "metadata": {},
   "source": [
    "##End of Answer 3##"
   ]
  },
  {
   "cell_type": "markdown",
   "id": "615ec5df",
   "metadata": {},
   "source": [
    "# Task 4: Which of the 3 target columns is easiest to predict accurately?"
   ]
  },
  {
   "cell_type": "markdown",
   "id": "da2a57de",
   "metadata": {},
   "source": [
    "##Start of Answer 4##"
   ]
  },
  {
   "cell_type": "code",
   "execution_count": null,
   "id": "d27577bc",
   "metadata": {
    "pycharm": {
     "is_executing": true
    }
   },
   "outputs": [],
   "source": []
  },
  {
   "cell_type": "markdown",
   "id": "5b00941a",
   "metadata": {},
   "source": [
    "##End of Answer 4##"
   ]
  },
  {
   "cell_type": "markdown",
   "id": "91770a37",
   "metadata": {},
   "source": [
    "# Task 5: Using this \"preferred target\", derive a new target whose values are the grouped label"
   ]
  },
  {
   "cell_type": "markdown",
   "id": "2c3e174a",
   "metadata": {},
   "source": [
    "##Start of Answer 5##"
   ]
  },
  {
   "cell_type": "code",
   "execution_count": null,
   "id": "5bb4de93",
   "metadata": {
    "pycharm": {
     "is_executing": true
    }
   },
   "outputs": [],
   "source": []
  },
  {
   "cell_type": "markdown",
   "id": "2a19d02c",
   "metadata": {},
   "source": [
    "##End of Answer 5##"
   ]
  },
  {
   "cell_type": "markdown",
   "id": "616027a7",
   "metadata": {},
   "source": [
    "# Task 6: Use _two_ classification procedures to predict these demand quartiles"
   ]
  },
  {
   "cell_type": "markdown",
   "id": "eec67e3f",
   "metadata": {},
   "source": [
    "##Start of Answer 6"
   ]
  },
  {
   "cell_type": "code",
   "execution_count": null,
   "id": "9b6a3cc3",
   "metadata": {
    "pycharm": {
     "is_executing": true
    }
   },
   "outputs": [],
   "source": []
  },
  {
   "cell_type": "markdown",
   "id": "3e8f39bd",
   "metadata": {},
   "source": [
    "##End of Answer 6##"
   ]
  },
  {
   "cell_type": "markdown",
   "id": "042e18e1",
   "metadata": {
    "lines_to_next_cell": 2
   },
   "source": [
    "# Task 7: Which of the two machine learning procedures provides the highest prediction accuracy on the test set?"
   ]
  },
  {
   "cell_type": "markdown",
   "id": "ea232709",
   "metadata": {},
   "source": [
    "##Start of Answer 7"
   ]
  },
  {
   "cell_type": "code",
   "execution_count": null,
   "id": "101dc9b8",
   "metadata": {
    "pycharm": {
     "is_executing": true
    }
   },
   "outputs": [],
   "source": []
  },
  {
   "cell_type": "markdown",
   "id": "1f26f048",
   "metadata": {},
   "source": [
    "##End of Answer 7##"
   ]
  }
 ],
 "metadata": {
  "kernelspec": {
   "display_name": "Python 3 (ipykernel)",
   "language": "python",
   "name": "python3"
  },
  "language_info": {
   "codemirror_mode": {
    "name": "ipython",
    "version": 3
   },
   "file_extension": ".py",
   "mimetype": "text/x-python",
   "name": "python",
   "nbconvert_exporter": "python",
   "pygments_lexer": "ipython3",
   "version": "3.9.7"
  }
 },
 "nbformat": 4,
 "nbformat_minor": 5
}
